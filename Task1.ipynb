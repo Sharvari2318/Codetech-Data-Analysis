{
  "nbformat": 4,
  "nbformat_minor": 0,
  "metadata": {
    "colab": {
      "provenance": [],
      "authorship_tag": "ABX9TyP8P9APw+zosi53J0UlnnPZ",
      "include_colab_link": true
    },
    "kernelspec": {
      "name": "python3",
      "display_name": "Python 3"
    },
    "language_info": {
      "name": "python"
    }
  },
  "cells": [
    {
      "cell_type": "markdown",
      "metadata": {
        "id": "view-in-github",
        "colab_type": "text"
      },
      "source": [
        "<a href=\"https://colab.research.google.com/github/Sharvari2318/Codetech-Data-Analysis/blob/main/Task1.ipynb\" target=\"_parent\"><img src=\"https://colab.research.google.com/assets/colab-badge.svg\" alt=\"Open In Colab\"/></a>"
      ]
    },
    {
      "cell_type": "code",
      "execution_count": 3,
      "metadata": {
        "colab": {
          "base_uri": "https://localhost:8080/"
        },
        "id": "tQ4dkyzFBrsh",
        "outputId": "d6c01782-d1ed-47cf-dd8b-6d086c0dc41d"
      },
      "outputs": [
        {
          "output_type": "stream",
          "name": "stdout",
          "text": [
            "Requirement already satisfied: pyspark in /usr/local/lib/python3.11/dist-packages (3.5.1)\n",
            "Requirement already satisfied: py4j==0.10.9.7 in /usr/local/lib/python3.11/dist-packages (from pyspark) (0.10.9.7)\n"
          ]
        }
      ],
      "source": [
        "!pip install pyspark"
      ]
    },
    {
      "cell_type": "code",
      "source": [
        "from pyspark.sql import SparkSession"
      ],
      "metadata": {
        "id": "DdkGEgLVBzO2"
      },
      "execution_count": 4,
      "outputs": []
    },
    {
      "cell_type": "code",
      "source": [
        "spark = SparkSession.builder.appName('Pyspark').getOrCreate()"
      ],
      "metadata": {
        "id": "jnfX1isJG3MW"
      },
      "execution_count": 5,
      "outputs": []
    },
    {
      "cell_type": "code",
      "source": [
        "spark"
      ],
      "metadata": {
        "colab": {
          "base_uri": "https://localhost:8080/",
          "height": 219
        },
        "id": "38lljO9oHS7t",
        "outputId": "fd919c45-53e2-4389-a4fd-6a12c3aabcae"
      },
      "execution_count": 6,
      "outputs": [
        {
          "output_type": "execute_result",
          "data": {
            "text/plain": [
              "<pyspark.sql.session.SparkSession at 0x7ab6eb90db10>"
            ],
            "text/html": [
              "\n",
              "            <div>\n",
              "                <p><b>SparkSession - in-memory</b></p>\n",
              "                \n",
              "        <div>\n",
              "            <p><b>SparkContext</b></p>\n",
              "\n",
              "            <p><a href=\"http://4238266f2111:4040\">Spark UI</a></p>\n",
              "\n",
              "            <dl>\n",
              "              <dt>Version</dt>\n",
              "                <dd><code>v3.5.1</code></dd>\n",
              "              <dt>Master</dt>\n",
              "                <dd><code>local[*]</code></dd>\n",
              "              <dt>AppName</dt>\n",
              "                <dd><code>Pyspark</code></dd>\n",
              "            </dl>\n",
              "        </div>\n",
              "        \n",
              "            </div>\n",
              "        "
            ]
          },
          "metadata": {},
          "execution_count": 6
        }
      ]
    },
    {
      "cell_type": "code",
      "source": [
        "df = spark.read.csv('/content/Udemy_Courses.csv',header=True,inferSchema=True)"
      ],
      "metadata": {
        "id": "IoGJNWFtHa19"
      },
      "execution_count": 13,
      "outputs": []
    },
    {
      "cell_type": "code",
      "source": [
        "df.show(3)"
      ],
      "metadata": {
        "colab": {
          "base_uri": "https://localhost:8080/"
        },
        "id": "Cp0SJ1JsHynf",
        "outputId": "816ab115-a6d2-459b-f72b-aa5183bf02b1"
      },
      "execution_count": 14,
      "outputs": [
        {
          "output_type": "stream",
          "name": "stdout",
          "text": [
            "+---------+--------------------+-------+-----+---------------+-----------+------------+------------------+----------------+--------------------+-------------------+\n",
            "|course_id|        course_title|is_paid|price|num_subscribers|num_reviews|num_lectures|             level|content_duration| published_timestamp|            subject|\n",
            "+---------+--------------------+-------+-----+---------------+-----------+------------+------------------+----------------+--------------------+-------------------+\n",
            "|   288942|#1 Piano Hand Coo...|   TRUE|   35|           3137|         18|          68|        All Levels|       1.5 hours|2014-09-18T05:07:05Z|Musical Instruments|\n",
            "|  1170074|#10 Hand Coordina...|   TRUE|   75|           1593|          1|          41|Intermediate Level|          1 hour|2017-04-12T19:06:34Z|Musical Instruments|\n",
            "|  1193886|#12 Hand Coordina...|   TRUE|   75|            482|          1|          47|Intermediate Level|       1.5 hours|2017-04-26T18:34:57Z|Musical Instruments|\n",
            "+---------+--------------------+-------+-----+---------------+-----------+------------+------------------+----------------+--------------------+-------------------+\n",
            "only showing top 3 rows\n",
            "\n"
          ]
        }
      ]
    },
    {
      "cell_type": "code",
      "source": [
        "df.printSchema()"
      ],
      "metadata": {
        "colab": {
          "base_uri": "https://localhost:8080/"
        },
        "id": "tUyFOlqRH8qt",
        "outputId": "86e1d209-61cf-455d-e2d1-aea854b7b2f4"
      },
      "execution_count": 15,
      "outputs": [
        {
          "output_type": "stream",
          "name": "stdout",
          "text": [
            "root\n",
            " |-- course_id: integer (nullable = true)\n",
            " |-- course_title: string (nullable = true)\n",
            " |-- is_paid: string (nullable = true)\n",
            " |-- price: string (nullable = true)\n",
            " |-- num_subscribers: integer (nullable = true)\n",
            " |-- num_reviews: integer (nullable = true)\n",
            " |-- num_lectures: integer (nullable = true)\n",
            " |-- level: string (nullable = true)\n",
            " |-- content_duration: string (nullable = true)\n",
            " |-- published_timestamp: string (nullable = true)\n",
            " |-- subject: string (nullable = true)\n",
            "\n"
          ]
        }
      ]
    },
    {
      "cell_type": "code",
      "source": [
        "df.columns"
      ],
      "metadata": {
        "colab": {
          "base_uri": "https://localhost:8080/"
        },
        "id": "o-NpqVNoIYcl",
        "outputId": "d15179b8-4272-4672-f0dd-cec06ae05cb3"
      },
      "execution_count": 16,
      "outputs": [
        {
          "output_type": "execute_result",
          "data": {
            "text/plain": [
              "['course_id',\n",
              " 'course_title',\n",
              " 'is_paid',\n",
              " 'price',\n",
              " 'num_subscribers',\n",
              " 'num_reviews',\n",
              " 'num_lectures',\n",
              " 'level',\n",
              " 'content_duration',\n",
              " 'published_timestamp',\n",
              " 'subject']"
            ]
          },
          "metadata": {},
          "execution_count": 16
        }
      ]
    },
    {
      "cell_type": "code",
      "source": [
        "df.count()"
      ],
      "metadata": {
        "colab": {
          "base_uri": "https://localhost:8080/"
        },
        "id": "r4fnu4lnI6sV",
        "outputId": "a5ded6ab-b4e0-4427-ee06-2b0ef2a7fa8c"
      },
      "execution_count": 17,
      "outputs": [
        {
          "output_type": "execute_result",
          "data": {
            "text/plain": [
              "3687"
            ]
          },
          "metadata": {},
          "execution_count": 17
        }
      ]
    },
    {
      "cell_type": "code",
      "source": [
        "len(df.columns)"
      ],
      "metadata": {
        "colab": {
          "base_uri": "https://localhost:8080/"
        },
        "id": "-kCU2HJ6JEMl",
        "outputId": "a06fa1e5-183b-418b-84da-2bc3092e9c27"
      },
      "execution_count": 18,
      "outputs": [
        {
          "output_type": "execute_result",
          "data": {
            "text/plain": [
              "11"
            ]
          },
          "metadata": {},
          "execution_count": 18
        }
      ]
    },
    {
      "cell_type": "code",
      "source": [
        "df.describe().show()"
      ],
      "metadata": {
        "colab": {
          "base_uri": "https://localhost:8080/"
        },
        "id": "TwFDmHZkJIQd",
        "outputId": "5ed542a3-9619-427b-e55e-e4690ab1e22c"
      },
      "execution_count": 19,
      "outputs": [
        {
          "output_type": "stream",
          "name": "stdout",
          "text": [
            "+-------+-----------------+---------------------------------+--------------------+-----------------+------------------+------------------+------------------+------------------+------------------+-------------------+--------------------+\n",
            "|summary|        course_id|                     course_title|             is_paid|            price|   num_subscribers|       num_reviews|      num_lectures|             level|  content_duration|published_timestamp|             subject|\n",
            "+-------+-----------------+---------------------------------+--------------------+-----------------+------------------+------------------+------------------+------------------+------------------+-------------------+--------------------+\n",
            "|  count|             3687|                             3687|                3687|             3687|              3687|              3687|              3687|              3687|              3687|               3687|                3687|\n",
            "|   mean|676299.1806346623|                             NULL|                NULL|72.07888493475681|3189.9622999728776|157.15785191212368|40.027393544887445|              36.4|               0.0|               NULL|                NULL|\n",
            "| stddev|343674.7833279243|                             NULL|                NULL|60.19578217135653| 9493.640088709672| 935.1419938156156|50.350185080254015| 23.00652081476032|              NULL|               NULL|                NULL|\n",
            "|    min|             8324|             #1 Piano Hand Coo...|               FALSE|              100|                 0|                 0|                 0|                20|                 0|            2 hours|2014-01-27T20:58:16Z|\n",
            "|    max|          1282064|７日でマスター  ビギナー向け A...|https://www.udemy...|             true|            268923|             27445|               779|Intermediate Level|Intermediate Level|            43 mins|     Web Development|\n",
            "+-------+-----------------+---------------------------------+--------------------+-----------------+------------------+------------------+------------------+------------------+------------------+-------------------+--------------------+\n",
            "\n"
          ]
        }
      ]
    },
    {
      "cell_type": "code",
      "source": [
        "df.columns"
      ],
      "metadata": {
        "colab": {
          "base_uri": "https://localhost:8080/"
        },
        "id": "xW1B79FGJsd0",
        "outputId": "d8a2d854-52d0-4753-8cea-916638349fc2"
      },
      "execution_count": 24,
      "outputs": [
        {
          "output_type": "execute_result",
          "data": {
            "text/plain": [
              "['course_id',\n",
              " 'course_title',\n",
              " 'is_paid',\n",
              " 'price',\n",
              " 'num_subscribers',\n",
              " 'num_reviews',\n",
              " 'num_lectures',\n",
              " 'level',\n",
              " 'content_duration',\n",
              " 'published_timestamp',\n",
              " 'subject']"
            ]
          },
          "metadata": {},
          "execution_count": 24
        }
      ]
    },
    {
      "cell_type": "code",
      "source": [
        "df.toPandas()['subject'].unique()"
      ],
      "metadata": {
        "colab": {
          "base_uri": "https://localhost:8080/"
        },
        "id": "RGltGxLjJQxl",
        "outputId": "06c8239c-f91e-481f-b8e5-42ebd20e573f"
      },
      "execution_count": 27,
      "outputs": [
        {
          "output_type": "execute_result",
          "data": {
            "text/plain": [
              "array(['Musical Instruments', 'Business Finance', 'Graphic Design',\n",
              "       'Web Development', '2014-09-16T19:51:45Z', '2016-12-29T00:24:06Z',\n",
              "       '2014-10-30T15:59:39Z', '2014-01-27T20:58:16Z',\n",
              "       '2015-07-23T00:08:33Z'], dtype=object)"
            ]
          },
          "metadata": {},
          "execution_count": 27
        }
      ]
    },
    {
      "cell_type": "code",
      "source": [
        "len(df.toPandas()['subject'].unique())"
      ],
      "metadata": {
        "colab": {
          "base_uri": "https://localhost:8080/"
        },
        "id": "Kw1YTj3OJb0G",
        "outputId": "0e7875cd-8931-4a80-b29a-9d2dfd9c3167"
      },
      "execution_count": 28,
      "outputs": [
        {
          "output_type": "execute_result",
          "data": {
            "text/plain": [
              "9"
            ]
          },
          "metadata": {},
          "execution_count": 28
        }
      ]
    },
    {
      "cell_type": "code",
      "source": [
        "df.show()"
      ],
      "metadata": {
        "colab": {
          "base_uri": "https://localhost:8080/"
        },
        "id": "P6TblmsuKkz9",
        "outputId": "149f194c-f8ba-48ad-dca5-d40acf9a6e0a"
      },
      "execution_count": 29,
      "outputs": [
        {
          "output_type": "stream",
          "name": "stdout",
          "text": [
            "+---------+--------------------+-------+-----+---------------+-----------+------------+------------------+----------------+--------------------+-------------------+\n",
            "|course_id|        course_title|is_paid|price|num_subscribers|num_reviews|num_lectures|             level|content_duration| published_timestamp|            subject|\n",
            "+---------+--------------------+-------+-----+---------------+-----------+------------+------------------+----------------+--------------------+-------------------+\n",
            "|   288942|#1 Piano Hand Coo...|   TRUE|   35|           3137|         18|          68|        All Levels|       1.5 hours|2014-09-18T05:07:05Z|Musical Instruments|\n",
            "|  1170074|#10 Hand Coordina...|   TRUE|   75|           1593|          1|          41|Intermediate Level|          1 hour|2017-04-12T19:06:34Z|Musical Instruments|\n",
            "|  1193886|#12 Hand Coordina...|   TRUE|   75|            482|          1|          47|Intermediate Level|       1.5 hours|2017-04-26T18:34:57Z|Musical Instruments|\n",
            "|  1116700|#4 Piano Hand Coo...|   TRUE|   75|            850|          3|          43|Intermediate Level|          1 hour|2017-02-21T23:48:18Z|Musical Instruments|\n",
            "|  1120410|#5  Piano Hand Co...|   TRUE|   75|            940|          3|          32|Intermediate Level|         37 mins|2017-02-21T23:44:49Z|Musical Instruments|\n",
            "|  1122832|#6 Piano Hand Coo...|   TRUE|   65|           2015|          3|          21|Intermediate Level|         44 mins|2017-03-08T17:53:36Z|Musical Instruments|\n",
            "|  1123184|#7 Piano Hand Coo...|   TRUE|   65|           2015|          2|          25|Intermediate Level|          1 hour|2017-03-08T18:09:32Z|Musical Instruments|\n",
            "|   768028|* An Integrated A...|   TRUE|  200|            134|         14|         123|        All Levels|       5.5 hours|2016-03-15T17:23:07Z|   Business Finance|\n",
            "|   206592|:::Beginners Guid...|   TRUE|   25|             72|          5|          17|    Beginner Level|          1 hour|2014-04-29T19:50:31Z|     Graphic Design|\n",
            "|   738910|[Value Investing]...|   TRUE|  200|           2715|         70|          20|      Expert Level|         4 hours|2016-05-25T21:04:41Z|   Business Finance|\n",
            "|   591880|1 - Concepts of S...|   TRUE|  200|            273|          4|          15|    Beginner Level|         31 mins|2015-08-30T22:48:34Z|   Business Finance|\n",
            "|    64605|          1 Hour CSS|   TRUE|  100|          18324|        333|          16|    Beginner Level|          1 hour|2013-07-09T20:27:14Z|    Web Development|\n",
            "|    64422|         1 Hour HTML|   TRUE|  200|          16212|        514|          20|    Beginner Level|          1 hour|2013-07-09T03:16:26Z|    Web Development|\n",
            "|    63612|   1 Hour JavaScript|   TRUE|  200|          22999|        602|          18|    Beginner Level|          1 hour|2013-07-04T15:27:02Z|    Web Development|\n",
            "|    72262|       1 hour jQuery|   TRUE|  100|           5456|        133|          25|    Beginner Level|          1 hour|2013-08-03T14:20:52Z|    Web Development|\n",
            "|   145220|1. Principles of ...|   TRUE|   20|           1074|          6|          13|        All Levels|          1 hour|2014-01-13T20:43:46Z|   Business Finance|\n",
            "|   302450|10 Numbers Every ...|   TRUE|   20|             13|          1|           9|        All Levels|          1 hour|2015-03-08T19:11:24Z|   Business Finance|\n",
            "|   157336|10.  Bonds and Bo...|   TRUE|   20|            308|          4|          10|        All Levels|          1 hour|2014-02-11T18:11:55Z|   Business Finance|\n",
            "|   897162|101 Awesome Rocka...|   TRUE|   40|            407|         64|          33|Intermediate Level|       2.5 hours|2016-08-10T20:58:18Z|Musical Instruments|\n",
            "|   384928|101 Blues riffs -...|   TRUE|  200|           1350|         65|          55|Intermediate Level|       6.5 hours|2015-01-04T21:14:31Z|Musical Instruments|\n",
            "+---------+--------------------+-------+-----+---------------+-----------+------------+------------------+----------------+--------------------+-------------------+\n",
            "only showing top 20 rows\n",
            "\n"
          ]
        }
      ]
    },
    {
      "cell_type": "code",
      "source": [
        "df.select('level').show()"
      ],
      "metadata": {
        "colab": {
          "base_uri": "https://localhost:8080/"
        },
        "id": "KgQYLoEcKoxF",
        "outputId": "d4b615c6-1f38-4767-f9c6-222d0b3714c6"
      },
      "execution_count": 30,
      "outputs": [
        {
          "output_type": "stream",
          "name": "stdout",
          "text": [
            "+------------------+\n",
            "|             level|\n",
            "+------------------+\n",
            "|        All Levels|\n",
            "|Intermediate Level|\n",
            "|Intermediate Level|\n",
            "|Intermediate Level|\n",
            "|Intermediate Level|\n",
            "|Intermediate Level|\n",
            "|Intermediate Level|\n",
            "|        All Levels|\n",
            "|    Beginner Level|\n",
            "|      Expert Level|\n",
            "|    Beginner Level|\n",
            "|    Beginner Level|\n",
            "|    Beginner Level|\n",
            "|    Beginner Level|\n",
            "|    Beginner Level|\n",
            "|        All Levels|\n",
            "|        All Levels|\n",
            "|        All Levels|\n",
            "|Intermediate Level|\n",
            "|Intermediate Level|\n",
            "+------------------+\n",
            "only showing top 20 rows\n",
            "\n"
          ]
        }
      ]
    },
    {
      "cell_type": "code",
      "source": [
        "df.select(['level','subject']).show()"
      ],
      "metadata": {
        "colab": {
          "base_uri": "https://localhost:8080/"
        },
        "id": "DJUuk8b-K6KN",
        "outputId": "b2b1d4bc-566c-4ba8-dd31-2eb65ce5bfd3"
      },
      "execution_count": 31,
      "outputs": [
        {
          "output_type": "stream",
          "name": "stdout",
          "text": [
            "+------------------+-------------------+\n",
            "|             level|            subject|\n",
            "+------------------+-------------------+\n",
            "|        All Levels|Musical Instruments|\n",
            "|Intermediate Level|Musical Instruments|\n",
            "|Intermediate Level|Musical Instruments|\n",
            "|Intermediate Level|Musical Instruments|\n",
            "|Intermediate Level|Musical Instruments|\n",
            "|Intermediate Level|Musical Instruments|\n",
            "|Intermediate Level|Musical Instruments|\n",
            "|        All Levels|   Business Finance|\n",
            "|    Beginner Level|     Graphic Design|\n",
            "|      Expert Level|   Business Finance|\n",
            "|    Beginner Level|   Business Finance|\n",
            "|    Beginner Level|    Web Development|\n",
            "|    Beginner Level|    Web Development|\n",
            "|    Beginner Level|    Web Development|\n",
            "|    Beginner Level|    Web Development|\n",
            "|        All Levels|   Business Finance|\n",
            "|        All Levels|   Business Finance|\n",
            "|        All Levels|   Business Finance|\n",
            "|Intermediate Level|Musical Instruments|\n",
            "|Intermediate Level|Musical Instruments|\n",
            "+------------------+-------------------+\n",
            "only showing top 20 rows\n",
            "\n"
          ]
        }
      ]
    },
    {
      "cell_type": "markdown",
      "source": [],
      "metadata": {
        "id": "IZ5itzkyNZ0f"
      }
    },
    {
      "cell_type": "code",
      "source": [
        "df = df.withColumn ('num_subscribers',df.price+1)"
      ],
      "metadata": {
        "id": "ToxcpSTqLSTN"
      },
      "execution_count": 42,
      "outputs": []
    },
    {
      "cell_type": "code",
      "source": [
        "df.show(5)"
      ],
      "metadata": {
        "colab": {
          "base_uri": "https://localhost:8080/"
        },
        "id": "Ic5sUGi9MNXz",
        "outputId": "da2b54d4-cfe2-4769-f360-2adeb1ec2428"
      },
      "execution_count": 44,
      "outputs": [
        {
          "output_type": "stream",
          "name": "stdout",
          "text": [
            "+---------+--------------------+-------+-----+---------------+-----------+------------+------------------+----------------+--------------------+-------------------+\n",
            "|course_id|        course_title|is_paid|price|num_subscribers|num_reviews|num_lectures|             level|content_duration| published_timestamp|            subject|\n",
            "+---------+--------------------+-------+-----+---------------+-----------+------------+------------------+----------------+--------------------+-------------------+\n",
            "|   288942|#1 Piano Hand Coo...|   TRUE|   35|           36.0|         18|          68|        All Levels|       1.5 hours|2014-09-18T05:07:05Z|Musical Instruments|\n",
            "|  1170074|#10 Hand Coordina...|   TRUE|   75|           76.0|          1|          41|Intermediate Level|          1 hour|2017-04-12T19:06:34Z|Musical Instruments|\n",
            "|  1193886|#12 Hand Coordina...|   TRUE|   75|           76.0|          1|          47|Intermediate Level|       1.5 hours|2017-04-26T18:34:57Z|Musical Instruments|\n",
            "|  1116700|#4 Piano Hand Coo...|   TRUE|   75|           76.0|          3|          43|Intermediate Level|          1 hour|2017-02-21T23:48:18Z|Musical Instruments|\n",
            "|  1120410|#5  Piano Hand Co...|   TRUE|   75|           76.0|          3|          32|Intermediate Level|         37 mins|2017-02-21T23:44:49Z|Musical Instruments|\n",
            "+---------+--------------------+-------+-----+---------------+-----------+------------+------------------+----------------+--------------------+-------------------+\n",
            "only showing top 5 rows\n",
            "\n"
          ]
        }
      ]
    },
    {
      "cell_type": "code",
      "source": [
        "df.columns"
      ],
      "metadata": {
        "colab": {
          "base_uri": "https://localhost:8080/"
        },
        "id": "NltzXahPNkVl",
        "outputId": "e2caa2c0-78fa-454a-e362-039765d9f975"
      },
      "execution_count": 45,
      "outputs": [
        {
          "output_type": "execute_result",
          "data": {
            "text/plain": [
              "['course_id',\n",
              " 'course_title',\n",
              " 'is_paid',\n",
              " 'price',\n",
              " 'num_subscribers',\n",
              " 'num_reviews',\n",
              " 'num_lectures',\n",
              " 'level',\n",
              " 'content_duration',\n",
              " 'published_timestamp',\n",
              " 'subject']"
            ]
          },
          "metadata": {},
          "execution_count": 45
        }
      ]
    },
    {
      "cell_type": "code",
      "source": [
        "df = df.withColumnRenamed('num_lectures', 'lectures')"
      ],
      "metadata": {
        "id": "lFIgA5DaNrwF"
      },
      "execution_count": 49,
      "outputs": []
    },
    {
      "cell_type": "code",
      "source": [
        "df.show(3)"
      ],
      "metadata": {
        "colab": {
          "base_uri": "https://localhost:8080/"
        },
        "id": "EUH7KrxSOhT2",
        "outputId": "b71c1c8b-ba33-4c06-9a73-0082cea5b697"
      },
      "execution_count": 51,
      "outputs": [
        {
          "output_type": "stream",
          "name": "stdout",
          "text": [
            "+---------+--------------------+-------+-----+---------------+-----------+--------+------------------+----------------+--------------------+-------------------+\n",
            "|course_id|        course_title|is_paid|price|num_subscribers|num_reviews|lectures|             level|content_duration| published_timestamp|            subject|\n",
            "+---------+--------------------+-------+-----+---------------+-----------+--------+------------------+----------------+--------------------+-------------------+\n",
            "|   288942|#1 Piano Hand Coo...|   TRUE|   35|           36.0|         18|      68|        All Levels|       1.5 hours|2014-09-18T05:07:05Z|Musical Instruments|\n",
            "|  1170074|#10 Hand Coordina...|   TRUE|   75|           76.0|          1|      41|Intermediate Level|          1 hour|2017-04-12T19:06:34Z|Musical Instruments|\n",
            "|  1193886|#12 Hand Coordina...|   TRUE|   75|           76.0|          1|      47|Intermediate Level|       1.5 hours|2017-04-26T18:34:57Z|Musical Instruments|\n",
            "+---------+--------------------+-------+-----+---------------+-----------+--------+------------------+----------------+--------------------+-------------------+\n",
            "only showing top 3 rows\n",
            "\n"
          ]
        }
      ]
    },
    {
      "cell_type": "code",
      "source": [
        "df.filter (df['price']>190).select('course_id').show()"
      ],
      "metadata": {
        "colab": {
          "base_uri": "https://localhost:8080/"
        },
        "id": "hFfBOj-qPeDV",
        "outputId": "43d9309b-d0a6-454a-b50a-cf4f4afcaafd"
      },
      "execution_count": 58,
      "outputs": [
        {
          "output_type": "stream",
          "name": "stdout",
          "text": [
            "+---------+\n",
            "|course_id|\n",
            "+---------+\n",
            "|   768028|\n",
            "|   738910|\n",
            "|   591880|\n",
            "|    64422|\n",
            "|    63612|\n",
            "|   384928|\n",
            "|   592594|\n",
            "|   975982|\n",
            "|  1139792|\n",
            "|   402836|\n",
            "|  1029322|\n",
            "|   891490|\n",
            "|   517148|\n",
            "|   173134|\n",
            "|  1013676|\n",
            "|   651014|\n",
            "|   632702|\n",
            "|   670034|\n",
            "|   530768|\n",
            "|   564366|\n",
            "+---------+\n",
            "only showing top 20 rows\n",
            "\n"
          ]
        }
      ]
    },
    {
      "cell_type": "code",
      "source": [
        "df.groupby('subject').mean().select(['subject','avg(num_subscribers)']).show()"
      ],
      "metadata": {
        "colab": {
          "base_uri": "https://localhost:8080/"
        },
        "id": "oQl5h8C6QJI9",
        "outputId": "188bed91-092b-4a6b-ccc8-3596d06bf89c"
      },
      "execution_count": 61,
      "outputs": [
        {
          "output_type": "stream",
          "name": "stdout",
          "text": [
            "+--------------------+--------------------+\n",
            "|             subject|avg(num_subscribers)|\n",
            "+--------------------+--------------------+\n",
            "|2016-12-29T00:24:06Z|                NULL|\n",
            "|2014-01-27T20:58:16Z|                NULL|\n",
            "|    Business Finance|    75.3789664551224|\n",
            "|2014-09-16T19:51:45Z|                NULL|\n",
            "|      Graphic Design|  62.390845070422536|\n",
            "|2015-07-23T00:08:33Z|                NULL|\n",
            "|     Web Development|   87.63542642924087|\n",
            "|2014-10-30T15:59:39Z|                NULL|\n",
            "| Musical Instruments|  54.154574132492115|\n",
            "+--------------------+--------------------+\n",
            "\n"
          ]
        }
      ]
    },
    {
      "cell_type": "code",
      "source": [
        "df.columns"
      ],
      "metadata": {
        "colab": {
          "base_uri": "https://localhost:8080/"
        },
        "id": "b8lay7X-RGQN",
        "outputId": "9ef69e95-632c-4e61-9d58-41483a16e4c4"
      },
      "execution_count": 63,
      "outputs": [
        {
          "output_type": "execute_result",
          "data": {
            "text/plain": [
              "['course_id',\n",
              " 'course_title',\n",
              " 'is_paid',\n",
              " 'price',\n",
              " 'num_subscribers',\n",
              " 'num_reviews',\n",
              " 'lectures',\n",
              " 'level',\n",
              " 'content_duration',\n",
              " 'published_timestamp',\n",
              " 'subject']"
            ]
          },
          "metadata": {},
          "execution_count": 63
        }
      ]
    },
    {
      "cell_type": "code",
      "source": [
        "df.orderBy(df['num_subscribers'].desc()).show(8)"
      ],
      "metadata": {
        "colab": {
          "base_uri": "https://localhost:8080/"
        },
        "id": "GLr_ApPHRg79",
        "outputId": "593eca5f-0e9d-4082-a842-4c6b84f21e4d"
      },
      "execution_count": 72,
      "outputs": [
        {
          "output_type": "stream",
          "name": "stdout",
          "text": [
            "+---------+--------------------+-------+-----+---------------+-----------+--------+------------------+----------------+--------------------+-------------------+\n",
            "|course_id|        course_title|is_paid|price|num_subscribers|num_reviews|lectures|             level|content_duration| published_timestamp|            subject|\n",
            "+---------+--------------------+-------+-----+---------------+-----------+--------+------------------+----------------+--------------------+-------------------+\n",
            "|   738910|[Value Investing]...|   TRUE|  200|          201.0|         70|      20|      Expert Level|         4 hours|2016-05-25T21:04:41Z|   Business Finance|\n",
            "|   384928|101 Blues riffs -...|   TRUE|  200|          201.0|         65|      55|Intermediate Level|       6.5 hours|2015-01-04T21:14:31Z|Musical Instruments|\n",
            "|   768028|* An Integrated A...|   TRUE|  200|          201.0|         14|     123|        All Levels|       5.5 hours|2016-03-15T17:23:07Z|   Business Finance|\n",
            "|   591880|1 - Concepts of S...|   TRUE|  200|          201.0|          4|      15|    Beginner Level|         31 mins|2015-08-30T22:48:34Z|   Business Finance|\n",
            "|    64422|         1 Hour HTML|   TRUE|  200|          201.0|        514|      20|    Beginner Level|          1 hour|2013-07-09T03:16:26Z|    Web Development|\n",
            "|    63612|   1 Hour JavaScript|   TRUE|  200|          201.0|        602|      18|    Beginner Level|          1 hour|2013-07-04T15:27:02Z|    Web Development|\n",
            "|  1139792|    会声会影深度教学|   TRUE|  200|          201.0|          2|      12|    Beginner Level|         36 mins|2017-03-17T17:07:38Z|     Graphic Design|\n",
            "|   592594|3D Programming wi...|   TRUE|  200|          201.0|         49|      18|Intermediate Level|         2 hours|2015-08-31T21:07:26Z|    Web Development|\n",
            "+---------+--------------------+-------+-----+---------------+-----------+--------+------------------+----------------+--------------------+-------------------+\n",
            "only showing top 8 rows\n",
            "\n"
          ]
        }
      ]
    },
    {
      "cell_type": "code",
      "source": [
        "df.show()"
      ],
      "metadata": {
        "colab": {
          "base_uri": "https://localhost:8080/"
        },
        "id": "4uylnMwFRyUF",
        "outputId": "06ca2e7d-3822-4f0a-8803-8e11f2fedbfb"
      },
      "execution_count": 65,
      "outputs": [
        {
          "output_type": "stream",
          "name": "stdout",
          "text": [
            "+---------+--------------------+-------+-----+---------------+-----------+--------+------------------+----------------+--------------------+-------------------+\n",
            "|course_id|        course_title|is_paid|price|num_subscribers|num_reviews|lectures|             level|content_duration| published_timestamp|            subject|\n",
            "+---------+--------------------+-------+-----+---------------+-----------+--------+------------------+----------------+--------------------+-------------------+\n",
            "|   288942|#1 Piano Hand Coo...|   TRUE|   35|           36.0|         18|      68|        All Levels|       1.5 hours|2014-09-18T05:07:05Z|Musical Instruments|\n",
            "|  1170074|#10 Hand Coordina...|   TRUE|   75|           76.0|          1|      41|Intermediate Level|          1 hour|2017-04-12T19:06:34Z|Musical Instruments|\n",
            "|  1193886|#12 Hand Coordina...|   TRUE|   75|           76.0|          1|      47|Intermediate Level|       1.5 hours|2017-04-26T18:34:57Z|Musical Instruments|\n",
            "|  1116700|#4 Piano Hand Coo...|   TRUE|   75|           76.0|          3|      43|Intermediate Level|          1 hour|2017-02-21T23:48:18Z|Musical Instruments|\n",
            "|  1120410|#5  Piano Hand Co...|   TRUE|   75|           76.0|          3|      32|Intermediate Level|         37 mins|2017-02-21T23:44:49Z|Musical Instruments|\n",
            "|  1122832|#6 Piano Hand Coo...|   TRUE|   65|           66.0|          3|      21|Intermediate Level|         44 mins|2017-03-08T17:53:36Z|Musical Instruments|\n",
            "|  1123184|#7 Piano Hand Coo...|   TRUE|   65|           66.0|          2|      25|Intermediate Level|          1 hour|2017-03-08T18:09:32Z|Musical Instruments|\n",
            "|   768028|* An Integrated A...|   TRUE|  200|          201.0|         14|     123|        All Levels|       5.5 hours|2016-03-15T17:23:07Z|   Business Finance|\n",
            "|   206592|:::Beginners Guid...|   TRUE|   25|           26.0|          5|      17|    Beginner Level|          1 hour|2014-04-29T19:50:31Z|     Graphic Design|\n",
            "|   738910|[Value Investing]...|   TRUE|  200|          201.0|         70|      20|      Expert Level|         4 hours|2016-05-25T21:04:41Z|   Business Finance|\n",
            "|   591880|1 - Concepts of S...|   TRUE|  200|          201.0|          4|      15|    Beginner Level|         31 mins|2015-08-30T22:48:34Z|   Business Finance|\n",
            "|    64605|          1 Hour CSS|   TRUE|  100|          101.0|        333|      16|    Beginner Level|          1 hour|2013-07-09T20:27:14Z|    Web Development|\n",
            "|    64422|         1 Hour HTML|   TRUE|  200|          201.0|        514|      20|    Beginner Level|          1 hour|2013-07-09T03:16:26Z|    Web Development|\n",
            "|    63612|   1 Hour JavaScript|   TRUE|  200|          201.0|        602|      18|    Beginner Level|          1 hour|2013-07-04T15:27:02Z|    Web Development|\n",
            "|    72262|       1 hour jQuery|   TRUE|  100|          101.0|        133|      25|    Beginner Level|          1 hour|2013-08-03T14:20:52Z|    Web Development|\n",
            "|   145220|1. Principles of ...|   TRUE|   20|           21.0|          6|      13|        All Levels|          1 hour|2014-01-13T20:43:46Z|   Business Finance|\n",
            "|   302450|10 Numbers Every ...|   TRUE|   20|           21.0|          1|       9|        All Levels|          1 hour|2015-03-08T19:11:24Z|   Business Finance|\n",
            "|   157336|10.  Bonds and Bo...|   TRUE|   20|           21.0|          4|      10|        All Levels|          1 hour|2014-02-11T18:11:55Z|   Business Finance|\n",
            "|   897162|101 Awesome Rocka...|   TRUE|   40|           41.0|         64|      33|Intermediate Level|       2.5 hours|2016-08-10T20:58:18Z|Musical Instruments|\n",
            "|   384928|101 Blues riffs -...|   TRUE|  200|          201.0|         65|      55|Intermediate Level|       6.5 hours|2015-01-04T21:14:31Z|Musical Instruments|\n",
            "+---------+--------------------+-------+-----+---------------+-----------+--------+------------------+----------------+--------------------+-------------------+\n",
            "only showing top 20 rows\n",
            "\n"
          ]
        }
      ]
    },
    {
      "cell_type": "code",
      "source": [
        "from pyspark.sql.functions import mean"
      ],
      "metadata": {
        "id": "2Ij6_eJHSGac"
      },
      "execution_count": 66,
      "outputs": []
    },
    {
      "cell_type": "code",
      "source": [
        "meanl =df.select (mean('num_subscribers')).collect()"
      ],
      "metadata": {
        "id": "xI6UbJqaSSHP"
      },
      "execution_count": 67,
      "outputs": []
    },
    {
      "cell_type": "code",
      "source": [
        "meanl[0][0]"
      ],
      "metadata": {
        "colab": {
          "base_uri": "https://localhost:8080/"
        },
        "id": "YahZJmH8SlZV",
        "outputId": "27694c77-aaa3-46f3-deb6-ecd6d7c4691f"
      },
      "execution_count": 68,
      "outputs": [
        {
          "output_type": "execute_result",
          "data": {
            "text/plain": [
              "73.07888493475681"
            ]
          },
          "metadata": {},
          "execution_count": 68
        }
      ]
    },
    {
      "cell_type": "code",
      "source": [
        "df.fillna(meanl[0][0]).show(8)"
      ],
      "metadata": {
        "colab": {
          "base_uri": "https://localhost:8080/"
        },
        "id": "O3HKo_DtSq4c",
        "outputId": "1ddb19e9-e7b4-441f-cc04-ff0a1ef39306"
      },
      "execution_count": 71,
      "outputs": [
        {
          "output_type": "stream",
          "name": "stdout",
          "text": [
            "+---------+--------------------+-------+-----+---------------+-----------+--------+------------------+----------------+--------------------+-------------------+\n",
            "|course_id|        course_title|is_paid|price|num_subscribers|num_reviews|lectures|             level|content_duration| published_timestamp|            subject|\n",
            "+---------+--------------------+-------+-----+---------------+-----------+--------+------------------+----------------+--------------------+-------------------+\n",
            "|   288942|#1 Piano Hand Coo...|   TRUE|   35|           36.0|         18|      68|        All Levels|       1.5 hours|2014-09-18T05:07:05Z|Musical Instruments|\n",
            "|  1170074|#10 Hand Coordina...|   TRUE|   75|           76.0|          1|      41|Intermediate Level|          1 hour|2017-04-12T19:06:34Z|Musical Instruments|\n",
            "|  1193886|#12 Hand Coordina...|   TRUE|   75|           76.0|          1|      47|Intermediate Level|       1.5 hours|2017-04-26T18:34:57Z|Musical Instruments|\n",
            "|  1116700|#4 Piano Hand Coo...|   TRUE|   75|           76.0|          3|      43|Intermediate Level|          1 hour|2017-02-21T23:48:18Z|Musical Instruments|\n",
            "|  1120410|#5  Piano Hand Co...|   TRUE|   75|           76.0|          3|      32|Intermediate Level|         37 mins|2017-02-21T23:44:49Z|Musical Instruments|\n",
            "|  1122832|#6 Piano Hand Coo...|   TRUE|   65|           66.0|          3|      21|Intermediate Level|         44 mins|2017-03-08T17:53:36Z|Musical Instruments|\n",
            "|  1123184|#7 Piano Hand Coo...|   TRUE|   65|           66.0|          2|      25|Intermediate Level|          1 hour|2017-03-08T18:09:32Z|Musical Instruments|\n",
            "|   768028|* An Integrated A...|   TRUE|  200|          201.0|         14|     123|        All Levels|       5.5 hours|2016-03-15T17:23:07Z|   Business Finance|\n",
            "+---------+--------------------+-------+-----+---------------+-----------+--------+------------------+----------------+--------------------+-------------------+\n",
            "only showing top 8 rows\n",
            "\n"
          ]
        }
      ]
    },
    {
      "cell_type": "code",
      "source": [],
      "metadata": {
        "id": "Q4tL5Iz5S1Zd"
      },
      "execution_count": null,
      "outputs": []
    }
  ]
}